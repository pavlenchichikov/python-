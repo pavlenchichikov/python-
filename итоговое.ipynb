{
 "cells": [
  {
   "cell_type": "code",
   "execution_count": 6,
   "id": "29e78ed1-85fc-497d-b958-bc77b3c2ba89",
   "metadata": {},
   "outputs": [],
   "source": [
    "import pandas as pd"
   ]
  },
  {
   "cell_type": "code",
   "execution_count": 8,
   "id": "940315fa-cc70-46c8-9b7d-12ffc055b661",
   "metadata": {},
   "outputs": [],
   "source": [
    "# Шаг 1: Загрузка данных\n",
    "movies_df = pd.read_csv('C:\\Users\\User\\Desktop/итоговое/movies_stats.csv')"
   ]
  },
  {
   "cell_type": "code",
   "execution_count": 10,
   "id": "9154735c-b17d-428e-970f-23807f68f067",
   "metadata": {},
   "outputs": [],
   "source": [
    "# Шаг 2: Создание списка годов с 1950 по 2010\n",
    "years = list(range(1950, 2011))"
   ]
  },
  {
   "cell_type": "code",
   "execution_count": 12,
   "id": "cfe3f4f1-57a6-4bba-b4d5-0fcc7647e29b",
   "metadata": {},
   "outputs": [],
   "source": [
    "# Шаг 3: Функция для извлечения года выпуска\n",
    "def production_year(title):\n",
    "    for year in years:\n",
    "        if str(year) in title:\n",
    "            return year\n",
    "    return 1900  # Если год не найден"
   ]
  },
  {
   "cell_type": "code",
   "execution_count": 14,
   "id": "431eae3c-e6f2-493a-9113-dd65309d378e",
   "metadata": {},
   "outputs": [],
   "source": [
    "# Применение функции к столбцу 'title' и создание нового столбца 'year'\n",
    "movies_df['year'] = movies_df['title'].apply(production_year)"
   ]
  },
  {
   "cell_type": "code",
   "execution_count": 15,
   "id": "fc047895-bdfb-4fe9-a14b-3323655ce546",
   "metadata": {},
   "outputs": [],
   "source": [
    "# Шаг 4: Рассчитываем средний рейтинг для каждого года\n",
    "average_ratings = movies_df.groupby('year')['rating'].mean().reset_index()"
   ]
  },
  {
   "cell_type": "code",
   "execution_count": 18,
   "id": "252514f1-53df-478f-9c12-ad47dc05ccf0",
   "metadata": {},
   "outputs": [],
   "source": [
    "# Шаг 5: Сортировка по убыванию рейтинга\n",
    "sorted_ratings = average_ratings.sort_values(by='rating', ascending=False)"
   ]
  },
  {
   "cell_type": "code",
   "execution_count": 20,
   "id": "c635d723-b29c-4002-8e3f-235a0b30800b",
   "metadata": {},
   "outputs": [
    {
     "name": "stdout",
     "output_type": "stream",
     "text": [
      "    year    rating\n",
      "8   1957  4.014241\n",
      "23  1972  4.011136\n",
      "3   1952  4.000000\n",
      "5   1954  3.994220\n",
      "2   1951  3.983539\n",
      "..   ...       ...\n",
      "56  2005  3.448434\n",
      "54  2003  3.444777\n",
      "47  1996  3.426600\n",
      "48  1997  3.415764\n",
      "51  2000  3.356104\n",
      "\n",
      "[62 rows x 2 columns]\n"
     ]
    }
   ],
   "source": [
    "# Вывод результата\n",
    "print(sorted_ratings)"
   ]
  }
 ],
 "metadata": {
  "kernelspec": {
   "display_name": "Python [conda env:base] *",
   "language": "python",
   "name": "conda-base-py"
  },
  "language_info": {
   "codemirror_mode": {
    "name": "ipython",
    "version": 3
   },
   "file_extension": ".py",
   "mimetype": "text/x-python",
   "name": "python",
   "nbconvert_exporter": "python",
   "pygments_lexer": "ipython3",
   "version": "3.12.7"
  }
 },
 "nbformat": 4,
 "nbformat_minor": 5
}
